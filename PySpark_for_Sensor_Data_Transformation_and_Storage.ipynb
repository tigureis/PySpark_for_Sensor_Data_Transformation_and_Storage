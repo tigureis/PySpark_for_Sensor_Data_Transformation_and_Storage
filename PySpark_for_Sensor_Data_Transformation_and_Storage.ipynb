{
  "nbformat": 4,
  "nbformat_minor": 0,
  "metadata": {
    "colab": {
      "provenance": [],
      "mount_file_id": "1EiYoYEKmz1QCzITqaw9v_BV1Q7gmpJJd",
      "authorship_tag": "ABX9TyP/5uK70Vd9i3ZH41yR/zyC",
      "include_colab_link": true
    },
    "kernelspec": {
      "name": "python3",
      "display_name": "Python 3"
    },
    "language_info": {
      "name": "python"
    }
  },
  "cells": [
    {
      "cell_type": "markdown",
      "metadata": {
        "id": "view-in-github",
        "colab_type": "text"
      },
      "source": [
        "<a href=\"https://colab.research.google.com/github/tigureis/PySpark_for_Sensor_Data_Transformation_and_Storage/blob/main/PySpark_for_Sensor_Data_Transformation_and_Storage.ipynb\" target=\"_parent\"><img src=\"https://colab.research.google.com/assets/colab-badge.svg\" alt=\"Open In Colab\"/></a>"
      ]
    },
    {
      "cell_type": "markdown",
      "source": [
        "Install and import PySpark"
      ],
      "metadata": {
        "id": "MFJepL371krM"
      }
    },
    {
      "cell_type": "code",
      "execution_count": 1,
      "metadata": {
        "colab": {
          "base_uri": "https://localhost:8080/"
        },
        "id": "wz7VPnnr2C_g",
        "outputId": "b9750758-f60c-4f8f-cd83-af5723a954b3"
      },
      "outputs": [
        {
          "output_type": "stream",
          "name": "stdout",
          "text": [
            "Requirement already satisfied: pyspark in /usr/local/lib/python3.10/dist-packages (3.5.3)\n",
            "Requirement already satisfied: py4j==0.10.9.7 in /usr/local/lib/python3.10/dist-packages (from pyspark) (0.10.9.7)\n"
          ]
        }
      ],
      "source": [
        "!pip install pyspark"
      ]
    },
    {
      "cell_type": "code",
      "source": [
        "from pyspark.sql import SparkSession\n",
        "from pyspark.sql import functions as F"
      ],
      "metadata": {
        "id": "-YL1ldz92IHk"
      },
      "execution_count": 2,
      "outputs": []
    },
    {
      "cell_type": "markdown",
      "source": [
        "Initiates a SparkSession"
      ],
      "metadata": {
        "id": "pqzPF09O1sSk"
      }
    },
    {
      "cell_type": "code",
      "source": [
        "spark=SparkSession.builder.appName('sojaSensor').getOrCreate()"
      ],
      "metadata": {
        "id": "JW7rowzL39JM"
      },
      "execution_count": 3,
      "outputs": []
    },
    {
      "cell_type": "markdown",
      "source": [
        "Load the data from a CSV file into a SparkDF"
      ],
      "metadata": {
        "id": "bQp4H4KR1wiA"
      }
    },
    {
      "cell_type": "code",
      "source": [
        "df=spark.read.format('csv').option('header',True).load('/content/sensores-iot.csv')"
      ],
      "metadata": {
        "id": "49fas4404iKy"
      },
      "execution_count": 4,
      "outputs": []
    },
    {
      "cell_type": "markdown",
      "source": [
        "Check the DF"
      ],
      "metadata": {
        "id": "7Kmg-Elh2Ran"
      }
    },
    {
      "cell_type": "code",
      "source": [
        "df.show(20)"
      ],
      "metadata": {
        "colab": {
          "base_uri": "https://localhost:8080/"
        },
        "id": "Flbk6dT648Vs",
        "outputId": "c8327afb-1db2-4415-f011-77a4460b4bda"
      },
      "execution_count": 5,
      "outputs": [
        {
          "output_type": "stream",
          "name": "stdout",
          "text": [
            "+---+-----------+-----------+--------+--------------------+-----------+-----------+\n",
            "|_c0|  device_id|temperature|humidity|           timestamp|   latitude|  longitude|\n",
            "+---+-----------+-----------+--------+--------------------+-----------+-----------+\n",
            "|  0|sensor-2231|         25|      49|2004-10-08 05:19:...| 39.0319385|-167.644666|\n",
            "|  1|sensor-3869|         17|      42|2010-06-16 20:35:...| 43.4913955|  76.084671|\n",
            "|  2|sensor-7079|         35|      58|2010-10-03 18:10:...|-39.9795415|-149.006886|\n",
            "|  3|sensor-1163|         15|      64|2005-10-10 11:38:...| 28.1871005|-112.581419|\n",
            "|  4|sensor-4483|         14|      65|2020-04-29 07:56:...| 89.2243515| -16.076939|\n",
            "|  5|sensor-2821|         15|      52|2000-10-27 23:32:...|-55.3025525| -26.657210|\n",
            "|  6|sensor-9805|         12|      37|2022-08-09 22:08:...| -25.912786| 122.693490|\n",
            "|  7|sensor-1230|         10|      60|1970-02-02 17:32:...|-88.9300035|  33.377804|\n",
            "|  8|sensor-4472|         11|      75|2014-02-22 06:42:...|-89.0426855| 120.266309|\n",
            "|  9|sensor-2506|         21|      47|1996-05-07 20:48:...|  12.514161|-137.848048|\n",
            "| 10|sensor-3518|         25|      26|1987-05-14 11:34:...| -56.307075| -16.077716|\n",
            "| 11|sensor-8686|         31|      40|2021-04-29 06:24:...| -21.282637|  74.162657|\n",
            "| 12|sensor-5294|         29|      73|2013-06-08 23:40:...|  64.529081|-101.889952|\n",
            "| 13|sensor-7677|         11|      54|1977-03-07 21:41:...|  55.156515|-133.649076|\n",
            "| 14|sensor-7121|         20|      55|1985-04-23 15:50:...|  75.636212|  83.222337|\n",
            "| 15|sensor-4786|         13|      67|2014-07-17 03:02:...| 11.1979225|  -6.551372|\n",
            "| 16|sensor-0415|         32|      58|1994-02-13 07:50:...| 52.3421005| -97.622644|\n",
            "| 17|sensor-1413|         15|      65|2017-01-17 12:55:...| 45.2803425| 155.446898|\n",
            "| 18|sensor-2884|         17|      36|1983-11-04 21:42:...|  76.162808|-139.796114|\n",
            "| 19|sensor-7096|         20|      56|1974-01-15 11:58:...| -79.873674| 127.088715|\n",
            "+---+-----------+-----------+--------+--------------------+-----------+-----------+\n",
            "only showing top 20 rows\n",
            "\n"
          ]
        }
      ]
    },
    {
      "cell_type": "code",
      "source": [
        "df"
      ],
      "metadata": {
        "colab": {
          "base_uri": "https://localhost:8080/"
        },
        "id": "xA4tJTX2FcwR",
        "outputId": "f10fb691-5525-4b80-ae47-a643bebab45e"
      },
      "execution_count": 6,
      "outputs": [
        {
          "output_type": "execute_result",
          "data": {
            "text/plain": [
              "DataFrame[_c0: string, device_id: string, temperature: string, humidity: string, timestamp: string, latitude: string, longitude: string]"
            ]
          },
          "metadata": {},
          "execution_count": 6
        }
      ]
    },
    {
      "cell_type": "code",
      "source": [
        "df.count()"
      ],
      "metadata": {
        "colab": {
          "base_uri": "https://localhost:8080/"
        },
        "id": "kw6BBmdxjGXj",
        "outputId": "45c065af-9fd3-46ac-ba9b-52765d8a011d"
      },
      "execution_count": 7,
      "outputs": [
        {
          "output_type": "execute_result",
          "data": {
            "text/plain": [
              "1000000"
            ]
          },
          "metadata": {},
          "execution_count": 7
        }
      ]
    },
    {
      "cell_type": "markdown",
      "source": [
        "Create a column with the date, extracted from the *timestamp* column"
      ],
      "metadata": {
        "id": "hElsrPEy1xFg"
      }
    },
    {
      "cell_type": "code",
      "source": [
        "df=df.withColumn('date',F.to_date(F.col('timestamp')))"
      ],
      "metadata": {
        "id": "fMS6agP2Fdv8"
      },
      "execution_count": 8,
      "outputs": []
    },
    {
      "cell_type": "markdown",
      "source": [
        "Extract the date and separate in 3 distinct columns (yyyy;mm;dd)"
      ],
      "metadata": {
        "id": "dUKhx3aR4gOZ"
      }
    },
    {
      "cell_type": "code",
      "source": [
        "df=(df.withColumn('year', F.year('date'))\n",
        "  .withColumn('month', F.month('date'))\n",
        "  .withColumn('day', F.dayofmonth('date')))\n",
        "df.show(5)"
      ],
      "metadata": {
        "colab": {
          "base_uri": "https://localhost:8080/"
        },
        "id": "5_HgIKHccuxz",
        "outputId": "7460f62c-6914-40b0-9b1c-a388be732915"
      },
      "execution_count": 9,
      "outputs": [
        {
          "output_type": "stream",
          "name": "stdout",
          "text": [
            "+---+-----------+-----------+--------+--------------------+-----------+-----------+----------+----+-----+---+\n",
            "|_c0|  device_id|temperature|humidity|           timestamp|   latitude|  longitude|      date|year|month|day|\n",
            "+---+-----------+-----------+--------+--------------------+-----------+-----------+----------+----+-----+---+\n",
            "|  0|sensor-2231|         25|      49|2004-10-08 05:19:...| 39.0319385|-167.644666|2004-10-08|2004|   10|  8|\n",
            "|  1|sensor-3869|         17|      42|2010-06-16 20:35:...| 43.4913955|  76.084671|2010-06-16|2010|    6| 16|\n",
            "|  2|sensor-7079|         35|      58|2010-10-03 18:10:...|-39.9795415|-149.006886|2010-10-03|2010|   10|  3|\n",
            "|  3|sensor-1163|         15|      64|2005-10-10 11:38:...| 28.1871005|-112.581419|2005-10-10|2005|   10| 10|\n",
            "|  4|sensor-4483|         14|      65|2020-04-29 07:56:...| 89.2243515| -16.076939|2020-04-29|2020|    4| 29|\n",
            "+---+-----------+-----------+--------+--------------------+-----------+-----------+----------+----+-----+---+\n",
            "only showing top 5 rows\n",
            "\n"
          ]
        }
      ]
    },
    {
      "cell_type": "markdown",
      "source": [
        "Calculate and store the average of temperature and humidity"
      ],
      "metadata": {
        "id": "r8BlTkCJ4ymB"
      }
    },
    {
      "cell_type": "code",
      "source": [
        "mean_temp=df.select(F.mean(F.col('temperature'))).collect()[0][0]\n",
        "mean_humidity=df.select(F.mean(F.col('humidity'))).collect()[0][0]"
      ],
      "metadata": {
        "id": "Bg4r6eW2dKjC"
      },
      "execution_count": 10,
      "outputs": []
    },
    {
      "cell_type": "markdown",
      "source": [
        "Use the calculated variables to fill the missing data"
      ],
      "metadata": {
        "id": "gX5BloKz5Cdo"
      }
    },
    {
      "cell_type": "code",
      "source": [
        "df.fillna({'temperature':mean_temp, 'humidity':mean_humidity}).show()"
      ],
      "metadata": {
        "colab": {
          "base_uri": "https://localhost:8080/"
        },
        "id": "ykzuDgszfyKH",
        "outputId": "82214f2d-00bd-4629-f438-73d0f8521f2c"
      },
      "execution_count": 11,
      "outputs": [
        {
          "output_type": "stream",
          "name": "stdout",
          "text": [
            "+---+-----------+-----------+--------+--------------------+-----------+-----------+----------+----+-----+---+\n",
            "|_c0|  device_id|temperature|humidity|           timestamp|   latitude|  longitude|      date|year|month|day|\n",
            "+---+-----------+-----------+--------+--------------------+-----------+-----------+----------+----+-----+---+\n",
            "|  0|sensor-2231|         25|      49|2004-10-08 05:19:...| 39.0319385|-167.644666|2004-10-08|2004|   10|  8|\n",
            "|  1|sensor-3869|         17|      42|2010-06-16 20:35:...| 43.4913955|  76.084671|2010-06-16|2010|    6| 16|\n",
            "|  2|sensor-7079|         35|      58|2010-10-03 18:10:...|-39.9795415|-149.006886|2010-10-03|2010|   10|  3|\n",
            "|  3|sensor-1163|         15|      64|2005-10-10 11:38:...| 28.1871005|-112.581419|2005-10-10|2005|   10| 10|\n",
            "|  4|sensor-4483|         14|      65|2020-04-29 07:56:...| 89.2243515| -16.076939|2020-04-29|2020|    4| 29|\n",
            "|  5|sensor-2821|         15|      52|2000-10-27 23:32:...|-55.3025525| -26.657210|2000-10-27|2000|   10| 27|\n",
            "|  6|sensor-9805|         12|      37|2022-08-09 22:08:...| -25.912786| 122.693490|2022-08-09|2022|    8|  9|\n",
            "|  7|sensor-1230|         10|      60|1970-02-02 17:32:...|-88.9300035|  33.377804|1970-02-02|1970|    2|  2|\n",
            "|  8|sensor-4472|         11|      75|2014-02-22 06:42:...|-89.0426855| 120.266309|2014-02-22|2014|    2| 22|\n",
            "|  9|sensor-2506|         21|      47|1996-05-07 20:48:...|  12.514161|-137.848048|1996-05-07|1996|    5|  7|\n",
            "| 10|sensor-3518|         25|      26|1987-05-14 11:34:...| -56.307075| -16.077716|1987-05-14|1987|    5| 14|\n",
            "| 11|sensor-8686|         31|      40|2021-04-29 06:24:...| -21.282637|  74.162657|2021-04-29|2021|    4| 29|\n",
            "| 12|sensor-5294|         29|      73|2013-06-08 23:40:...|  64.529081|-101.889952|2013-06-08|2013|    6|  8|\n",
            "| 13|sensor-7677|         11|      54|1977-03-07 21:41:...|  55.156515|-133.649076|1977-03-07|1977|    3|  7|\n",
            "| 14|sensor-7121|         20|      55|1985-04-23 15:50:...|  75.636212|  83.222337|1985-04-23|1985|    4| 23|\n",
            "| 15|sensor-4786|         13|      67|2014-07-17 03:02:...| 11.1979225|  -6.551372|2014-07-17|2014|    7| 17|\n",
            "| 16|sensor-0415|         32|      58|1994-02-13 07:50:...| 52.3421005| -97.622644|1994-02-13|1994|    2| 13|\n",
            "| 17|sensor-1413|         15|      65|2017-01-17 12:55:...| 45.2803425| 155.446898|2017-01-17|2017|    1| 17|\n",
            "| 18|sensor-2884|         17|      36|1983-11-04 21:42:...|  76.162808|-139.796114|1983-11-04|1983|   11|  4|\n",
            "| 19|sensor-7096|         20|      56|1974-01-15 11:58:...| -79.873674| 127.088715|1974-01-15|1974|    1| 15|\n",
            "+---+-----------+-----------+--------+--------------------+-----------+-----------+----------+----+-----+---+\n",
            "only showing top 20 rows\n",
            "\n"
          ]
        }
      ]
    },
    {
      "cell_type": "markdown",
      "source": [
        "Replace *temperature* outliers with the *mean temperature*"
      ],
      "metadata": {
        "id": "u7dDqqe5kPZO"
      }
    },
    {
      "cell_type": "code",
      "source": [
        "df.withColumn('temperature',\n",
        "              F.when(F.col('temperature').between(0,40),\n",
        "                     F.col('temperature')).\n",
        "              otherwise(F.lit(mean_temp)))"
      ],
      "metadata": {
        "colab": {
          "base_uri": "https://localhost:8080/"
        },
        "id": "Iupllh4ljr3U",
        "outputId": "c597c4a7-5884-4ecd-a7b1-200018ad532d"
      },
      "execution_count": 12,
      "outputs": [
        {
          "output_type": "execute_result",
          "data": {
            "text/plain": [
              "DataFrame[_c0: string, device_id: string, temperature: string, humidity: string, timestamp: string, latitude: string, longitude: string, date: date, year: int, month: int, day: int]"
            ]
          },
          "metadata": {},
          "execution_count": 12
        }
      ]
    },
    {
      "cell_type": "markdown",
      "source": [
        "# Save the DF into a [Parquet](https://spark.apache.org/docs/latest/sql-data-sources-parquet.html)"
      ],
      "metadata": {
        "id": "jefmDC2vlFr7"
      }
    },
    {
      "cell_type": "code",
      "source": [
        "df.write.parquet('parquet_tradicional_sensores.parquet')"
      ],
      "metadata": {
        "id": "4lUX2JMNkrqH"
      },
      "execution_count": 13,
      "outputs": []
    },
    {
      "cell_type": "markdown",
      "source": [
        "Comprees using `snappy `to reduce the file size with a faster read/write operations"
      ],
      "metadata": {
        "id": "NlF5CQ4mZ6bo"
      }
    },
    {
      "cell_type": "code",
      "source": [
        "df.write.option('compression','snappy').parquet('parquet_snappy_sensores.parquet')"
      ],
      "metadata": {
        "id": "BXaZbcky8CoF"
      },
      "execution_count": 14,
      "outputs": []
    },
    {
      "cell_type": "markdown",
      "source": [
        "Comprees using `gzip` to get a smaller file size with a slight slower read/write operations"
      ],
      "metadata": {
        "id": "nByanSMBaFad"
      }
    },
    {
      "cell_type": "code",
      "source": [
        "df.write.option('compression','gzip').parquet('parquet_gzip_sensores.parquet')"
      ],
      "metadata": {
        "id": "GK3WHfLL8Jmj"
      },
      "execution_count": 15,
      "outputs": []
    },
    {
      "cell_type": "markdown",
      "source": [
        "Use `partitionBy` organizes the DF into separate folders based on `devicer_id`, `temperature` and `humidity`. Compare the processing time of the operations."
      ],
      "metadata": {
        "id": "WZg36UlBaGZZ"
      }
    },
    {
      "cell_type": "code",
      "source": [
        "df.write.partitionBy('device_id').parquet('parquet_device_sensores.parquet')"
      ],
      "metadata": {
        "id": "R7IlN6qc8gTZ"
      },
      "execution_count": 16,
      "outputs": []
    },
    {
      "cell_type": "code",
      "source": [
        "df.write.partitionBy('temperature').parquet('parquet_temperature.parquet')"
      ],
      "metadata": {
        "id": "kn8WusUGbfA2"
      },
      "execution_count": 18,
      "outputs": []
    },
    {
      "cell_type": "code",
      "source": [
        "df.write.partitionBy('humidity').parquet('humidity')"
      ],
      "metadata": {
        "id": "9GD_783Ybe3L"
      },
      "execution_count": 19,
      "outputs": []
    },
    {
      "cell_type": "markdown",
      "source": [
        "Use `read.parquet` to retrive the data from the parquet file"
      ],
      "metadata": {
        "id": "4xnUzoo8cqIZ"
      }
    },
    {
      "cell_type": "code",
      "source": [
        "spark.read.parquet('parquet_tradicional_sensores.parquet').show(5)"
      ],
      "metadata": {
        "colab": {
          "base_uri": "https://localhost:8080/"
        },
        "id": "2ExW01zd8OVj",
        "outputId": "6d657d15-2680-4692-bd4b-0f4522167df0"
      },
      "execution_count": 20,
      "outputs": [
        {
          "output_type": "stream",
          "name": "stdout",
          "text": [
            "+---+-----------+-----------+--------+--------------------+-----------+-----------+----------+----+-----+---+\n",
            "|_c0|  device_id|temperature|humidity|           timestamp|   latitude|  longitude|      date|year|month|day|\n",
            "+---+-----------+-----------+--------+--------------------+-----------+-----------+----------+----+-----+---+\n",
            "|  0|sensor-2231|         25|      49|2004-10-08 05:19:...| 39.0319385|-167.644666|2004-10-08|2004|   10|  8|\n",
            "|  1|sensor-3869|         17|      42|2010-06-16 20:35:...| 43.4913955|  76.084671|2010-06-16|2010|    6| 16|\n",
            "|  2|sensor-7079|         35|      58|2010-10-03 18:10:...|-39.9795415|-149.006886|2010-10-03|2010|   10|  3|\n",
            "|  3|sensor-1163|         15|      64|2005-10-10 11:38:...| 28.1871005|-112.581419|2005-10-10|2005|   10| 10|\n",
            "|  4|sensor-4483|         14|      65|2020-04-29 07:56:...| 89.2243515| -16.076939|2020-04-29|2020|    4| 29|\n",
            "+---+-----------+-----------+--------+--------------------+-----------+-----------+----------+----+-----+---+\n",
            "only showing top 5 rows\n",
            "\n"
          ]
        }
      ]
    },
    {
      "cell_type": "code",
      "source": [
        "spark.read.parquet('parquet_snappy_sensores.parquet').show(5)"
      ],
      "metadata": {
        "colab": {
          "base_uri": "https://localhost:8080/"
        },
        "id": "xtpSsiPyc72u",
        "outputId": "d65220f4-6ab3-4b4b-88de-20b1da55e6cd"
      },
      "execution_count": 21,
      "outputs": [
        {
          "output_type": "stream",
          "name": "stdout",
          "text": [
            "+---+-----------+-----------+--------+--------------------+-----------+-----------+----------+----+-----+---+\n",
            "|_c0|  device_id|temperature|humidity|           timestamp|   latitude|  longitude|      date|year|month|day|\n",
            "+---+-----------+-----------+--------+--------------------+-----------+-----------+----------+----+-----+---+\n",
            "|  0|sensor-2231|         25|      49|2004-10-08 05:19:...| 39.0319385|-167.644666|2004-10-08|2004|   10|  8|\n",
            "|  1|sensor-3869|         17|      42|2010-06-16 20:35:...| 43.4913955|  76.084671|2010-06-16|2010|    6| 16|\n",
            "|  2|sensor-7079|         35|      58|2010-10-03 18:10:...|-39.9795415|-149.006886|2010-10-03|2010|   10|  3|\n",
            "|  3|sensor-1163|         15|      64|2005-10-10 11:38:...| 28.1871005|-112.581419|2005-10-10|2005|   10| 10|\n",
            "|  4|sensor-4483|         14|      65|2020-04-29 07:56:...| 89.2243515| -16.076939|2020-04-29|2020|    4| 29|\n",
            "+---+-----------+-----------+--------+--------------------+-----------+-----------+----------+----+-----+---+\n",
            "only showing top 5 rows\n",
            "\n"
          ]
        }
      ]
    },
    {
      "cell_type": "code",
      "source": [
        "spark.read.parquet('parquet_gzip_sensores.parquet').show(5)"
      ],
      "metadata": {
        "colab": {
          "base_uri": "https://localhost:8080/"
        },
        "id": "RcRcpyAyc8CE",
        "outputId": "f9f5e384-4ba0-49cb-d933-f5c606252bd1"
      },
      "execution_count": 22,
      "outputs": [
        {
          "output_type": "stream",
          "name": "stdout",
          "text": [
            "+---+-----------+-----------+--------+--------------------+-----------+-----------+----------+----+-----+---+\n",
            "|_c0|  device_id|temperature|humidity|           timestamp|   latitude|  longitude|      date|year|month|day|\n",
            "+---+-----------+-----------+--------+--------------------+-----------+-----------+----------+----+-----+---+\n",
            "|  0|sensor-2231|         25|      49|2004-10-08 05:19:...| 39.0319385|-167.644666|2004-10-08|2004|   10|  8|\n",
            "|  1|sensor-3869|         17|      42|2010-06-16 20:35:...| 43.4913955|  76.084671|2010-06-16|2010|    6| 16|\n",
            "|  2|sensor-7079|         35|      58|2010-10-03 18:10:...|-39.9795415|-149.006886|2010-10-03|2010|   10|  3|\n",
            "|  3|sensor-1163|         15|      64|2005-10-10 11:38:...| 28.1871005|-112.581419|2005-10-10|2005|   10| 10|\n",
            "|  4|sensor-4483|         14|      65|2020-04-29 07:56:...| 89.2243515| -16.076939|2020-04-29|2020|    4| 29|\n",
            "+---+-----------+-----------+--------+--------------------+-----------+-----------+----------+----+-----+---+\n",
            "only showing top 5 rows\n",
            "\n"
          ]
        }
      ]
    }
  ]
}